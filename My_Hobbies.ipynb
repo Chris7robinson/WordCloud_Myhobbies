{
 "cells": [
  {
   "cell_type": "code",
   "execution_count": 6,
   "id": "22a28e00",
   "metadata": {},
   "outputs": [],
   "source": [
    "import pandas as pd\n",
    "import numpy as np\n",
    "import matplotlib.pyplot as plt\n",
    "import seaborn\n",
    "import re\n",
    "import nltk\n",
    "import string\n",
    "from nltk.tokenize import word_tokenize\n",
    "from nltk.corpus import stopwords\n",
    "from nltk.stem import PorterStemmer\n",
    "from nltk.stem import WordNetLemmatizer\n",
    "\n",
    "#pip install wordcloud\n",
    "from wordcloud import WordCloud"
   ]
  },
  {
   "cell_type": "code",
   "execution_count": 7,
   "id": "505535de",
   "metadata": {},
   "outputs": [],
   "source": [
    "import nltk"
   ]
  },
  {
   "cell_type": "code",
   "execution_count": 8,
   "id": "c1fbb2c4",
   "metadata": {},
   "outputs": [],
   "source": [
    "with open('C:\\\\Users\\\\chris\\\\Downloads\\\\Vinod sir notes\\\\Neural_Networks\\\\NLP_text\\\\My_Hobbies.txt','r') as f:\n",
    "    text = f.readlines()\n",
    "    "
   ]
  },
  {
   "cell_type": "code",
   "execution_count": 9,
   "id": "1b03a582",
   "metadata": {},
   "outputs": [],
   "source": [
    "text = [line.strip() for line in text]"
   ]
  },
  {
   "cell_type": "code",
   "execution_count": 10,
   "id": "53c43750",
   "metadata": {},
   "outputs": [
    {
     "name": "stdout",
     "output_type": "stream",
     "text": [
      "['My Hobby: Video Gaming â€“ Paragraph: 4 (300 Words)', 'A hobby is something that people love to do when he is free and it makes them relaxed and entertained. In this boring working world, everyone should have a hobby that makes him happy. Actually, hobby comes in mind automatically. Several people have several types of hobbies.', '', 'The most common hobbies are gardening, stamp collecting, reading books, drawing, watching TV, etc, but my hobby is pretty much different than others. I love playing video games. And I think that is my hobby. When I was in class six, my father bought me a computer and that was my starting in video games.', '', 'My favorite game genre is car racing, puzzle, and chess. I think playing chess with a computer makes me really calm and everyone should play this game. I avoid shooting games, these are really addictive and shooting games are not good for health.', '', 'I play games in my leisure time, I donâ€™t waste time playing games. My aim in life is to become a computer engineer and then build my own games. I am working on this daily. I am learning computer in-depth. My passion is to work with the computer always.', '', 'The video game has a good side and bad side both. Playing too many video games can ruin your attention power; you wonâ€™t be able to attentive in your study. Thatâ€™s why I say every one to play in a limit. Personally, I maintain a routine and never play out of routine.', '', 'I usually buy new games every month. My elder brother brings a game CD for me. I love video game and this is my favorite hobby. Among other hobbies, I think this is the best one for me.']\n"
     ]
    }
   ],
   "source": [
    "print(text)"
   ]
  },
  {
   "cell_type": "code",
   "execution_count": 11,
   "id": "f25066fd",
   "metadata": {},
   "outputs": [],
   "source": [
    "#_____________Join"
   ]
  },
  {
   "cell_type": "code",
   "execution_count": 12,
   "id": "7dd4ca8c",
   "metadata": {},
   "outputs": [],
   "source": [
    "#Vector of words and apply paster function into it"
   ]
  },
  {
   "cell_type": "code",
   "execution_count": 13,
   "id": "0c5625a5",
   "metadata": {},
   "outputs": [],
   "source": [
    "a = ['Hello', 'World', 'My', 'First','Handshake', 'Through', 'R']"
   ]
  },
  {
   "cell_type": "code",
   "execution_count": 14,
   "id": "c6da2c34",
   "metadata": {},
   "outputs": [
    {
     "data": {
      "text/plain": [
       "['Hello', 'World', 'My', 'First', 'Handshake', 'Through', 'R']"
      ]
     },
     "execution_count": 14,
     "metadata": {},
     "output_type": "execute_result"
    }
   ],
   "source": [
    "a"
   ]
  },
  {
   "cell_type": "code",
   "execution_count": 15,
   "id": "18584dce",
   "metadata": {},
   "outputs": [],
   "source": [
    "b= ' '.join(a)"
   ]
  },
  {
   "cell_type": "code",
   "execution_count": 16,
   "id": "7ce97290",
   "metadata": {},
   "outputs": [
    {
     "data": {
      "text/plain": [
       "'Hello World My First Handshake Through R'"
      ]
     },
     "execution_count": 16,
     "metadata": {},
     "output_type": "execute_result"
    }
   ],
   "source": [
    "b"
   ]
  },
  {
   "cell_type": "code",
   "execution_count": 17,
   "id": "eab3bab3",
   "metadata": {},
   "outputs": [],
   "source": [
    "#Just check how do these two look"
   ]
  },
  {
   "cell_type": "code",
   "execution_count": 18,
   "id": "e769b34a",
   "metadata": {},
   "outputs": [
    {
     "data": {
      "text/plain": [
       "['Hello', 'World', 'My', 'First', 'Handshake', 'Through', 'R']"
      ]
     },
     "execution_count": 18,
     "metadata": {},
     "output_type": "execute_result"
    }
   ],
   "source": [
    "a"
   ]
  },
  {
   "cell_type": "code",
   "execution_count": 19,
   "id": "894434e4",
   "metadata": {},
   "outputs": [
    {
     "data": {
      "text/plain": [
       "'Hello World My First Handshake Through R'"
      ]
     },
     "execution_count": 19,
     "metadata": {},
     "output_type": "execute_result"
    }
   ],
   "source": [
    "b"
   ]
  },
  {
   "cell_type": "code",
   "execution_count": 20,
   "id": "aa5fddee",
   "metadata": {},
   "outputs": [],
   "source": [
    "#Again"
   ]
  },
  {
   "cell_type": "code",
   "execution_count": 21,
   "id": "f112cec3",
   "metadata": {},
   "outputs": [],
   "source": [
    "with open('C:\\\\Users\\\\chris\\\\Downloads\\\\Vinod sir notes\\\\Neural_Networks\\\\NLP_text\\\\My_Hobbies.txt','r') as f:\n",
    "    chunk_2 = f.readlines()"
   ]
  },
  {
   "cell_type": "code",
   "execution_count": 22,
   "id": "7a369351",
   "metadata": {},
   "outputs": [],
   "source": [
    "chunk_2= [line.strip() for line in text]"
   ]
  },
  {
   "cell_type": "code",
   "execution_count": 23,
   "id": "d30b8348",
   "metadata": {},
   "outputs": [
    {
     "name": "stdout",
     "output_type": "stream",
     "text": [
      "['My Hobby: Video Gaming â€“ Paragraph: 4 (300 Words)', 'A hobby is something that people love to do when he is free and it makes them relaxed and entertained. In this boring working world, everyone should have a hobby that makes him happy. Actually, hobby comes in mind automatically. Several people have several types of hobbies.', '', 'The most common hobbies are gardening, stamp collecting, reading books, drawing, watching TV, etc, but my hobby is pretty much different than others. I love playing video games. And I think that is my hobby. When I was in class six, my father bought me a computer and that was my starting in video games.', '', 'My favorite game genre is car racing, puzzle, and chess. I think playing chess with a computer makes me really calm and everyone should play this game. I avoid shooting games, these are really addictive and shooting games are not good for health.', '', 'I play games in my leisure time, I donâ€™t waste time playing games. My aim in life is to become a computer engineer and then build my own games. I am working on this daily. I am learning computer in-depth. My passion is to work with the computer always.', '', 'The video game has a good side and bad side both. Playing too many video games can ruin your attention power; you wonâ€™t be able to attentive in your study. Thatâ€™s why I say every one to play in a limit. Personally, I maintain a routine and never play out of routine.', '', 'I usually buy new games every month. My elder brother brings a game CD for me. I love video game and this is my favorite hobby. Among other hobbies, I think this is the best one for me.']\n"
     ]
    }
   ],
   "source": [
    "print(chunk_2)"
   ]
  },
  {
   "cell_type": "code",
   "execution_count": 24,
   "id": "dbd87266",
   "metadata": {},
   "outputs": [],
   "source": [
    "chunk_pasted_2 = ' '.join(chunk_2)"
   ]
  },
  {
   "cell_type": "code",
   "execution_count": 25,
   "id": "b46f9d60",
   "metadata": {},
   "outputs": [
    {
     "data": {
      "text/plain": [
       "'My Hobby: Video Gaming â€“ Paragraph: 4 (300 Words) A hobby is something that people love to do when he is free and it makes them relaxed and entertained. In this boring working world, everyone should have a hobby that makes him happy. Actually, hobby comes in mind automatically. Several people have several types of hobbies.  The most common hobbies are gardening, stamp collecting, reading books, drawing, watching TV, etc, but my hobby is pretty much different than others. I love playing video games. And I think that is my hobby. When I was in class six, my father bought me a computer and that was my starting in video games.  My favorite game genre is car racing, puzzle, and chess. I think playing chess with a computer makes me really calm and everyone should play this game. I avoid shooting games, these are really addictive and shooting games are not good for health.  I play games in my leisure time, I donâ€™t waste time playing games. My aim in life is to become a computer engineer and then build my own games. I am working on this daily. I am learning computer in-depth. My passion is to work with the computer always.  The video game has a good side and bad side both. Playing too many video games can ruin your attention power; you wonâ€™t be able to attentive in your study. Thatâ€™s why I say every one to play in a limit. Personally, I maintain a routine and never play out of routine.  I usually buy new games every month. My elder brother brings a game CD for me. I love video game and this is my favorite hobby. Among other hobbies, I think this is the best one for me.'"
      ]
     },
     "execution_count": 25,
     "metadata": {},
     "output_type": "execute_result"
    }
   ],
   "source": [
    "chunk_pasted_2"
   ]
  },
  {
   "cell_type": "code",
   "execution_count": 26,
   "id": "f1890b0c",
   "metadata": {},
   "outputs": [],
   "source": [
    "##########Cleaning the data ######"
   ]
  },
  {
   "cell_type": "code",
   "execution_count": 27,
   "id": "0e8cfb74",
   "metadata": {},
   "outputs": [],
   "source": [
    "# lower casing the data"
   ]
  },
  {
   "cell_type": "code",
   "execution_count": 28,
   "id": "37e62326",
   "metadata": {},
   "outputs": [],
   "source": [
    "clean_data1 = chunk_pasted_2.lower()"
   ]
  },
  {
   "cell_type": "code",
   "execution_count": 29,
   "id": "b2cbd774",
   "metadata": {},
   "outputs": [
    {
     "data": {
      "text/plain": [
       "'my hobby: video gaming â€“ paragraph: 4 (300 words) a hobby is something that people love to do when he is free and it makes them relaxed and entertained. in this boring working world, everyone should have a hobby that makes him happy. actually, hobby comes in mind automatically. several people have several types of hobbies.  the most common hobbies are gardening, stamp collecting, reading books, drawing, watching tv, etc, but my hobby is pretty much different than others. i love playing video games. and i think that is my hobby. when i was in class six, my father bought me a computer and that was my starting in video games.  my favorite game genre is car racing, puzzle, and chess. i think playing chess with a computer makes me really calm and everyone should play this game. i avoid shooting games, these are really addictive and shooting games are not good for health.  i play games in my leisure time, i donâ€™t waste time playing games. my aim in life is to become a computer engineer and then build my own games. i am working on this daily. i am learning computer in-depth. my passion is to work with the computer always.  the video game has a good side and bad side both. playing too many video games can ruin your attention power; you wonâ€™t be able to attentive in your study. thatâ€™s why i say every one to play in a limit. personally, i maintain a routine and never play out of routine.  i usually buy new games every month. my elder brother brings a game cd for me. i love video game and this is my favorite hobby. among other hobbies, i think this is the best one for me.'"
      ]
     },
     "execution_count": 29,
     "metadata": {},
     "output_type": "execute_result"
    }
   ],
   "source": [
    "clean_data1"
   ]
  },
  {
   "cell_type": "code",
   "execution_count": 30,
   "id": "fc6b66b1",
   "metadata": {},
   "outputs": [],
   "source": [
    "#Cleaning the punctuations\n",
    "#We are going to replace the punctuations by space, if we don't do so then we may make new words"
   ]
  },
  {
   "cell_type": "code",
   "execution_count": 31,
   "id": "eb754d1d",
   "metadata": {},
   "outputs": [],
   "source": [
    "clean_data2= re.sub(r'[^\\w\\s]','', clean_data1)"
   ]
  },
  {
   "cell_type": "code",
   "execution_count": 32,
   "id": "bc519bae",
   "metadata": {},
   "outputs": [
    {
     "data": {
      "text/plain": [
       "'my hobby video gaming â paragraph 4 300 words a hobby is something that people love to do when he is free and it makes them relaxed and entertained in this boring working world everyone should have a hobby that makes him happy actually hobby comes in mind automatically several people have several types of hobbies  the most common hobbies are gardening stamp collecting reading books drawing watching tv etc but my hobby is pretty much different than others i love playing video games and i think that is my hobby when i was in class six my father bought me a computer and that was my starting in video games  my favorite game genre is car racing puzzle and chess i think playing chess with a computer makes me really calm and everyone should play this game i avoid shooting games these are really addictive and shooting games are not good for health  i play games in my leisure time i donât waste time playing games my aim in life is to become a computer engineer and then build my own games i am working on this daily i am learning computer indepth my passion is to work with the computer always  the video game has a good side and bad side both playing too many video games can ruin your attention power you wonât be able to attentive in your study thatâs why i say every one to play in a limit personally i maintain a routine and never play out of routine  i usually buy new games every month my elder brother brings a game cd for me i love video game and this is my favorite hobby among other hobbies i think this is the best one for me'"
      ]
     },
     "execution_count": 32,
     "metadata": {},
     "output_type": "execute_result"
    }
   ],
   "source": [
    "clean_data2"
   ]
  },
  {
   "cell_type": "code",
   "execution_count": 33,
   "id": "d02392f5",
   "metadata": {},
   "outputs": [],
   "source": [
    "#Cleaning the digits, pattern =\"\\\\d\""
   ]
  },
  {
   "cell_type": "code",
   "execution_count": 34,
   "id": "46b77f65",
   "metadata": {},
   "outputs": [],
   "source": [
    "clean_data3 = re.sub(r'\\d+', ' ', clean_data2)"
   ]
  },
  {
   "cell_type": "code",
   "execution_count": 35,
   "id": "f1b2c8a3",
   "metadata": {},
   "outputs": [
    {
     "data": {
      "text/plain": [
       "'my hobby video gaming â paragraph     words a hobby is something that people love to do when he is free and it makes them relaxed and entertained in this boring working world everyone should have a hobby that makes him happy actually hobby comes in mind automatically several people have several types of hobbies  the most common hobbies are gardening stamp collecting reading books drawing watching tv etc but my hobby is pretty much different than others i love playing video games and i think that is my hobby when i was in class six my father bought me a computer and that was my starting in video games  my favorite game genre is car racing puzzle and chess i think playing chess with a computer makes me really calm and everyone should play this game i avoid shooting games these are really addictive and shooting games are not good for health  i play games in my leisure time i donât waste time playing games my aim in life is to become a computer engineer and then build my own games i am working on this daily i am learning computer indepth my passion is to work with the computer always  the video game has a good side and bad side both playing too many video games can ruin your attention power you wonât be able to attentive in your study thatâs why i say every one to play in a limit personally i maintain a routine and never play out of routine  i usually buy new games every month my elder brother brings a game cd for me i love video game and this is my favorite hobby among other hobbies i think this is the best one for me'"
      ]
     },
     "execution_count": 35,
     "metadata": {},
     "output_type": "execute_result"
    }
   ],
   "source": [
    "clean_data3"
   ]
  },
  {
   "cell_type": "code",
   "execution_count": 36,
   "id": "05888fdb",
   "metadata": {},
   "outputs": [],
   "source": [
    "#preview of stopwords"
   ]
  },
  {
   "cell_type": "code",
   "execution_count": 37,
   "id": "436fbfac",
   "metadata": {},
   "outputs": [
    {
     "name": "stderr",
     "output_type": "stream",
     "text": [
      "[nltk_data] Downloading package stopwords to\n",
      "[nltk_data]     C:\\Users\\chris\\AppData\\Roaming\\nltk_data...\n",
      "[nltk_data]   Package stopwords is already up-to-date!\n"
     ]
    },
    {
     "data": {
      "text/plain": [
       "True"
      ]
     },
     "execution_count": 37,
     "metadata": {},
     "output_type": "execute_result"
    }
   ],
   "source": [
    "nltk.download(\"stopwords\")"
   ]
  },
  {
   "cell_type": "code",
   "execution_count": 38,
   "id": "42584049",
   "metadata": {},
   "outputs": [],
   "source": [
    "stop_words = set(stopwords.words('english'))"
   ]
  },
  {
   "cell_type": "code",
   "execution_count": 39,
   "id": "3c62b90c",
   "metadata": {},
   "outputs": [
    {
     "data": {
      "text/plain": [
       "{'a',\n",
       " 'about',\n",
       " 'above',\n",
       " 'after',\n",
       " 'again',\n",
       " 'against',\n",
       " 'ain',\n",
       " 'all',\n",
       " 'am',\n",
       " 'an',\n",
       " 'and',\n",
       " 'any',\n",
       " 'are',\n",
       " 'aren',\n",
       " \"aren't\",\n",
       " 'as',\n",
       " 'at',\n",
       " 'be',\n",
       " 'because',\n",
       " 'been',\n",
       " 'before',\n",
       " 'being',\n",
       " 'below',\n",
       " 'between',\n",
       " 'both',\n",
       " 'but',\n",
       " 'by',\n",
       " 'can',\n",
       " 'couldn',\n",
       " \"couldn't\",\n",
       " 'd',\n",
       " 'did',\n",
       " 'didn',\n",
       " \"didn't\",\n",
       " 'do',\n",
       " 'does',\n",
       " 'doesn',\n",
       " \"doesn't\",\n",
       " 'doing',\n",
       " 'don',\n",
       " \"don't\",\n",
       " 'down',\n",
       " 'during',\n",
       " 'each',\n",
       " 'few',\n",
       " 'for',\n",
       " 'from',\n",
       " 'further',\n",
       " 'had',\n",
       " 'hadn',\n",
       " \"hadn't\",\n",
       " 'has',\n",
       " 'hasn',\n",
       " \"hasn't\",\n",
       " 'have',\n",
       " 'haven',\n",
       " \"haven't\",\n",
       " 'having',\n",
       " 'he',\n",
       " 'her',\n",
       " 'here',\n",
       " 'hers',\n",
       " 'herself',\n",
       " 'him',\n",
       " 'himself',\n",
       " 'his',\n",
       " 'how',\n",
       " 'i',\n",
       " 'if',\n",
       " 'in',\n",
       " 'into',\n",
       " 'is',\n",
       " 'isn',\n",
       " \"isn't\",\n",
       " 'it',\n",
       " \"it's\",\n",
       " 'its',\n",
       " 'itself',\n",
       " 'just',\n",
       " 'll',\n",
       " 'm',\n",
       " 'ma',\n",
       " 'me',\n",
       " 'mightn',\n",
       " \"mightn't\",\n",
       " 'more',\n",
       " 'most',\n",
       " 'mustn',\n",
       " \"mustn't\",\n",
       " 'my',\n",
       " 'myself',\n",
       " 'needn',\n",
       " \"needn't\",\n",
       " 'no',\n",
       " 'nor',\n",
       " 'not',\n",
       " 'now',\n",
       " 'o',\n",
       " 'of',\n",
       " 'off',\n",
       " 'on',\n",
       " 'once',\n",
       " 'only',\n",
       " 'or',\n",
       " 'other',\n",
       " 'our',\n",
       " 'ours',\n",
       " 'ourselves',\n",
       " 'out',\n",
       " 'over',\n",
       " 'own',\n",
       " 're',\n",
       " 's',\n",
       " 'same',\n",
       " 'shan',\n",
       " \"shan't\",\n",
       " 'she',\n",
       " \"she's\",\n",
       " 'should',\n",
       " \"should've\",\n",
       " 'shouldn',\n",
       " \"shouldn't\",\n",
       " 'so',\n",
       " 'some',\n",
       " 'such',\n",
       " 't',\n",
       " 'than',\n",
       " 'that',\n",
       " \"that'll\",\n",
       " 'the',\n",
       " 'their',\n",
       " 'theirs',\n",
       " 'them',\n",
       " 'themselves',\n",
       " 'then',\n",
       " 'there',\n",
       " 'these',\n",
       " 'they',\n",
       " 'this',\n",
       " 'those',\n",
       " 'through',\n",
       " 'to',\n",
       " 'too',\n",
       " 'under',\n",
       " 'until',\n",
       " 'up',\n",
       " 've',\n",
       " 'very',\n",
       " 'was',\n",
       " 'wasn',\n",
       " \"wasn't\",\n",
       " 'we',\n",
       " 'were',\n",
       " 'weren',\n",
       " \"weren't\",\n",
       " 'what',\n",
       " 'when',\n",
       " 'where',\n",
       " 'which',\n",
       " 'while',\n",
       " 'who',\n",
       " 'whom',\n",
       " 'why',\n",
       " 'will',\n",
       " 'with',\n",
       " 'won',\n",
       " \"won't\",\n",
       " 'wouldn',\n",
       " \"wouldn't\",\n",
       " 'y',\n",
       " 'you',\n",
       " \"you'd\",\n",
       " \"you'll\",\n",
       " \"you're\",\n",
       " \"you've\",\n",
       " 'your',\n",
       " 'yours',\n",
       " 'yourself',\n",
       " 'yourselves'}"
      ]
     },
     "execution_count": 39,
     "metadata": {},
     "output_type": "execute_result"
    }
   ],
   "source": [
    "stop_words"
   ]
  },
  {
   "cell_type": "code",
   "execution_count": 40,
   "id": "47fa222c",
   "metadata": {},
   "outputs": [],
   "source": [
    "stop_words = set(stopwords.words(\"english\"))"
   ]
  },
  {
   "cell_type": "code",
   "execution_count": 41,
   "id": "f5d8063b",
   "metadata": {},
   "outputs": [
    {
     "data": {
      "text/plain": [
       "{'a',\n",
       " 'about',\n",
       " 'above',\n",
       " 'after',\n",
       " 'again',\n",
       " 'against',\n",
       " 'ain',\n",
       " 'all',\n",
       " 'am',\n",
       " 'an',\n",
       " 'and',\n",
       " 'any',\n",
       " 'are',\n",
       " 'aren',\n",
       " \"aren't\",\n",
       " 'as',\n",
       " 'at',\n",
       " 'be',\n",
       " 'because',\n",
       " 'been',\n",
       " 'before',\n",
       " 'being',\n",
       " 'below',\n",
       " 'between',\n",
       " 'both',\n",
       " 'but',\n",
       " 'by',\n",
       " 'can',\n",
       " 'couldn',\n",
       " \"couldn't\",\n",
       " 'd',\n",
       " 'did',\n",
       " 'didn',\n",
       " \"didn't\",\n",
       " 'do',\n",
       " 'does',\n",
       " 'doesn',\n",
       " \"doesn't\",\n",
       " 'doing',\n",
       " 'don',\n",
       " \"don't\",\n",
       " 'down',\n",
       " 'during',\n",
       " 'each',\n",
       " 'few',\n",
       " 'for',\n",
       " 'from',\n",
       " 'further',\n",
       " 'had',\n",
       " 'hadn',\n",
       " \"hadn't\",\n",
       " 'has',\n",
       " 'hasn',\n",
       " \"hasn't\",\n",
       " 'have',\n",
       " 'haven',\n",
       " \"haven't\",\n",
       " 'having',\n",
       " 'he',\n",
       " 'her',\n",
       " 'here',\n",
       " 'hers',\n",
       " 'herself',\n",
       " 'him',\n",
       " 'himself',\n",
       " 'his',\n",
       " 'how',\n",
       " 'i',\n",
       " 'if',\n",
       " 'in',\n",
       " 'into',\n",
       " 'is',\n",
       " 'isn',\n",
       " \"isn't\",\n",
       " 'it',\n",
       " \"it's\",\n",
       " 'its',\n",
       " 'itself',\n",
       " 'just',\n",
       " 'll',\n",
       " 'm',\n",
       " 'ma',\n",
       " 'me',\n",
       " 'mightn',\n",
       " \"mightn't\",\n",
       " 'more',\n",
       " 'most',\n",
       " 'mustn',\n",
       " \"mustn't\",\n",
       " 'my',\n",
       " 'myself',\n",
       " 'needn',\n",
       " \"needn't\",\n",
       " 'no',\n",
       " 'nor',\n",
       " 'not',\n",
       " 'now',\n",
       " 'o',\n",
       " 'of',\n",
       " 'off',\n",
       " 'on',\n",
       " 'once',\n",
       " 'only',\n",
       " 'or',\n",
       " 'other',\n",
       " 'our',\n",
       " 'ours',\n",
       " 'ourselves',\n",
       " 'out',\n",
       " 'over',\n",
       " 'own',\n",
       " 're',\n",
       " 's',\n",
       " 'same',\n",
       " 'shan',\n",
       " \"shan't\",\n",
       " 'she',\n",
       " \"she's\",\n",
       " 'should',\n",
       " \"should've\",\n",
       " 'shouldn',\n",
       " \"shouldn't\",\n",
       " 'so',\n",
       " 'some',\n",
       " 'such',\n",
       " 't',\n",
       " 'than',\n",
       " 'that',\n",
       " \"that'll\",\n",
       " 'the',\n",
       " 'their',\n",
       " 'theirs',\n",
       " 'them',\n",
       " 'themselves',\n",
       " 'then',\n",
       " 'there',\n",
       " 'these',\n",
       " 'they',\n",
       " 'this',\n",
       " 'those',\n",
       " 'through',\n",
       " 'to',\n",
       " 'too',\n",
       " 'under',\n",
       " 'until',\n",
       " 'up',\n",
       " 've',\n",
       " 'very',\n",
       " 'was',\n",
       " 'wasn',\n",
       " \"wasn't\",\n",
       " 'we',\n",
       " 'were',\n",
       " 'weren',\n",
       " \"weren't\",\n",
       " 'what',\n",
       " 'when',\n",
       " 'where',\n",
       " 'which',\n",
       " 'while',\n",
       " 'who',\n",
       " 'whom',\n",
       " 'why',\n",
       " 'will',\n",
       " 'with',\n",
       " 'won',\n",
       " \"won't\",\n",
       " 'wouldn',\n",
       " \"wouldn't\",\n",
       " 'y',\n",
       " 'you',\n",
       " \"you'd\",\n",
       " \"you'll\",\n",
       " \"you're\",\n",
       " \"you've\",\n",
       " 'your',\n",
       " 'yours',\n",
       " 'yourself',\n",
       " 'yourselves'}"
      ]
     },
     "execution_count": 41,
     "metadata": {},
     "output_type": "execute_result"
    }
   ],
   "source": [
    "stop_words"
   ]
  },
  {
   "cell_type": "code",
   "execution_count": 42,
   "id": "30af17d2",
   "metadata": {},
   "outputs": [],
   "source": [
    "# removing using function removeWords()"
   ]
  },
  {
   "cell_type": "code",
   "execution_count": 43,
   "id": "bfddea47",
   "metadata": {},
   "outputs": [],
   "source": [
    "from nltk.tokenize import word_tokenize"
   ]
  },
  {
   "cell_type": "code",
   "execution_count": 44,
   "id": "4d7c336b",
   "metadata": {},
   "outputs": [],
   "source": [
    "import nltk"
   ]
  },
  {
   "cell_type": "code",
   "execution_count": 45,
   "id": "e9c0933b",
   "metadata": {},
   "outputs": [
    {
     "name": "stderr",
     "output_type": "stream",
     "text": [
      "[nltk_data] Downloading package punkt to\n",
      "[nltk_data]     C:\\Users\\chris\\AppData\\Roaming\\nltk_data...\n",
      "[nltk_data]   Package punkt is already up-to-date!\n"
     ]
    },
    {
     "data": {
      "text/plain": [
       "True"
      ]
     },
     "execution_count": 45,
     "metadata": {},
     "output_type": "execute_result"
    }
   ],
   "source": [
    "nltk.download('punkt')"
   ]
  },
  {
   "cell_type": "code",
   "execution_count": 46,
   "id": "f8ae1681",
   "metadata": {},
   "outputs": [],
   "source": [
    "tokens = word_tokenize(clean_data3)"
   ]
  },
  {
   "cell_type": "code",
   "execution_count": 47,
   "id": "87deaeb1",
   "metadata": {},
   "outputs": [],
   "source": [
    "clean_data4 = [i for i in tokens if not i in stop_words]"
   ]
  },
  {
   "cell_type": "code",
   "execution_count": 48,
   "id": "9d284651",
   "metadata": {},
   "outputs": [
    {
     "data": {
      "text/plain": [
       "['hobby',\n",
       " 'video',\n",
       " 'gaming',\n",
       " 'â',\n",
       " 'paragraph',\n",
       " 'words',\n",
       " 'hobby',\n",
       " 'something',\n",
       " 'people',\n",
       " 'love',\n",
       " 'free',\n",
       " 'makes',\n",
       " 'relaxed',\n",
       " 'entertained',\n",
       " 'boring',\n",
       " 'working',\n",
       " 'world',\n",
       " 'everyone',\n",
       " 'hobby',\n",
       " 'makes',\n",
       " 'happy',\n",
       " 'actually',\n",
       " 'hobby',\n",
       " 'comes',\n",
       " 'mind',\n",
       " 'automatically',\n",
       " 'several',\n",
       " 'people',\n",
       " 'several',\n",
       " 'types',\n",
       " 'hobbies',\n",
       " 'common',\n",
       " 'hobbies',\n",
       " 'gardening',\n",
       " 'stamp',\n",
       " 'collecting',\n",
       " 'reading',\n",
       " 'books',\n",
       " 'drawing',\n",
       " 'watching',\n",
       " 'tv',\n",
       " 'etc',\n",
       " 'hobby',\n",
       " 'pretty',\n",
       " 'much',\n",
       " 'different',\n",
       " 'others',\n",
       " 'love',\n",
       " 'playing',\n",
       " 'video',\n",
       " 'games',\n",
       " 'think',\n",
       " 'hobby',\n",
       " 'class',\n",
       " 'six',\n",
       " 'father',\n",
       " 'bought',\n",
       " 'computer',\n",
       " 'starting',\n",
       " 'video',\n",
       " 'games',\n",
       " 'favorite',\n",
       " 'game',\n",
       " 'genre',\n",
       " 'car',\n",
       " 'racing',\n",
       " 'puzzle',\n",
       " 'chess',\n",
       " 'think',\n",
       " 'playing',\n",
       " 'chess',\n",
       " 'computer',\n",
       " 'makes',\n",
       " 'really',\n",
       " 'calm',\n",
       " 'everyone',\n",
       " 'play',\n",
       " 'game',\n",
       " 'avoid',\n",
       " 'shooting',\n",
       " 'games',\n",
       " 'really',\n",
       " 'addictive',\n",
       " 'shooting',\n",
       " 'games',\n",
       " 'good',\n",
       " 'health',\n",
       " 'play',\n",
       " 'games',\n",
       " 'leisure',\n",
       " 'time',\n",
       " 'donât',\n",
       " 'waste',\n",
       " 'time',\n",
       " 'playing',\n",
       " 'games',\n",
       " 'aim',\n",
       " 'life',\n",
       " 'become',\n",
       " 'computer',\n",
       " 'engineer',\n",
       " 'build',\n",
       " 'games',\n",
       " 'working',\n",
       " 'daily',\n",
       " 'learning',\n",
       " 'computer',\n",
       " 'indepth',\n",
       " 'passion',\n",
       " 'work',\n",
       " 'computer',\n",
       " 'always',\n",
       " 'video',\n",
       " 'game',\n",
       " 'good',\n",
       " 'side',\n",
       " 'bad',\n",
       " 'side',\n",
       " 'playing',\n",
       " 'many',\n",
       " 'video',\n",
       " 'games',\n",
       " 'ruin',\n",
       " 'attention',\n",
       " 'power',\n",
       " 'wonât',\n",
       " 'able',\n",
       " 'attentive',\n",
       " 'study',\n",
       " 'thatâs',\n",
       " 'say',\n",
       " 'every',\n",
       " 'one',\n",
       " 'play',\n",
       " 'limit',\n",
       " 'personally',\n",
       " 'maintain',\n",
       " 'routine',\n",
       " 'never',\n",
       " 'play',\n",
       " 'routine',\n",
       " 'usually',\n",
       " 'buy',\n",
       " 'new',\n",
       " 'games',\n",
       " 'every',\n",
       " 'month',\n",
       " 'elder',\n",
       " 'brother',\n",
       " 'brings',\n",
       " 'game',\n",
       " 'cd',\n",
       " 'love',\n",
       " 'video',\n",
       " 'game',\n",
       " 'favorite',\n",
       " 'hobby',\n",
       " 'among',\n",
       " 'hobbies',\n",
       " 'think',\n",
       " 'best',\n",
       " 'one']"
      ]
     },
     "execution_count": 48,
     "metadata": {},
     "output_type": "execute_result"
    }
   ],
   "source": [
    "clean_data4"
   ]
  },
  {
   "cell_type": "code",
   "execution_count": 49,
   "id": "e080c986",
   "metadata": {},
   "outputs": [],
   "source": [
    "#club the list"
   ]
  },
  {
   "cell_type": "code",
   "execution_count": 50,
   "id": "d682a70c",
   "metadata": {},
   "outputs": [],
   "source": [
    "clean_data4 = \" \".join(str(x) for x in clean_data4)"
   ]
  },
  {
   "cell_type": "code",
   "execution_count": 51,
   "id": "8a1e2cb2",
   "metadata": {},
   "outputs": [
    {
     "data": {
      "text/plain": [
       "'hobby video gaming â paragraph words hobby something people love free makes relaxed entertained boring working world everyone hobby makes happy actually hobby comes mind automatically several people several types hobbies common hobbies gardening stamp collecting reading books drawing watching tv etc hobby pretty much different others love playing video games think hobby class six father bought computer starting video games favorite game genre car racing puzzle chess think playing chess computer makes really calm everyone play game avoid shooting games really addictive shooting games good health play games leisure time donât waste time playing games aim life become computer engineer build games working daily learning computer indepth passion work computer always video game good side bad side playing many video games ruin attention power wonât able attentive study thatâs say every one play limit personally maintain routine never play routine usually buy new games every month elder brother brings game cd love video game favorite hobby among hobbies think best one'"
      ]
     },
     "execution_count": 51,
     "metadata": {},
     "output_type": "execute_result"
    }
   ],
   "source": [
    "clean_data4"
   ]
  },
  {
   "cell_type": "code",
   "execution_count": 52,
   "id": "8a477a21",
   "metadata": {},
   "outputs": [],
   "source": [
    "#removing single letters"
   ]
  },
  {
   "cell_type": "code",
   "execution_count": 53,
   "id": "7ede6499",
   "metadata": {},
   "outputs": [],
   "source": [
    "clean_data5 = ' '.join(i for i in clean_data4.split() if not (i.isalpha() and len(i)==1) )"
   ]
  },
  {
   "cell_type": "code",
   "execution_count": 54,
   "id": "4df49d50",
   "metadata": {},
   "outputs": [
    {
     "data": {
      "text/plain": [
       "'hobby video gaming paragraph words hobby something people love free makes relaxed entertained boring working world everyone hobby makes happy actually hobby comes mind automatically several people several types hobbies common hobbies gardening stamp collecting reading books drawing watching tv etc hobby pretty much different others love playing video games think hobby class six father bought computer starting video games favorite game genre car racing puzzle chess think playing chess computer makes really calm everyone play game avoid shooting games really addictive shooting games good health play games leisure time donât waste time playing games aim life become computer engineer build games working daily learning computer indepth passion work computer always video game good side bad side playing many video games ruin attention power wonât able attentive study thatâs say every one play limit personally maintain routine never play routine usually buy new games every month elder brother brings game cd love video game favorite hobby among hobbies think best one'"
      ]
     },
     "execution_count": 54,
     "metadata": {},
     "output_type": "execute_result"
    }
   ],
   "source": [
    "clean_data5"
   ]
  },
  {
   "cell_type": "code",
   "execution_count": 55,
   "id": "cb6319d8",
   "metadata": {},
   "outputs": [],
   "source": [
    "#Whitespace"
   ]
  },
  {
   "cell_type": "code",
   "execution_count": 56,
   "id": "29e80fbc",
   "metadata": {},
   "outputs": [],
   "source": [
    "clean_data6 = clean_data5.strip()"
   ]
  },
  {
   "cell_type": "code",
   "execution_count": 57,
   "id": "b70ddf39",
   "metadata": {},
   "outputs": [
    {
     "data": {
      "text/plain": [
       "'hobby video gaming paragraph words hobby something people love free makes relaxed entertained boring working world everyone hobby makes happy actually hobby comes mind automatically several people several types hobbies common hobbies gardening stamp collecting reading books drawing watching tv etc hobby pretty much different others love playing video games think hobby class six father bought computer starting video games favorite game genre car racing puzzle chess think playing chess computer makes really calm everyone play game avoid shooting games really addictive shooting games good health play games leisure time donât waste time playing games aim life become computer engineer build games working daily learning computer indepth passion work computer always video game good side bad side playing many video games ruin attention power wonât able attentive study thatâs say every one play limit personally maintain routine never play routine usually buy new games every month elder brother brings game cd love video game favorite hobby among hobbies think best one'"
      ]
     },
     "execution_count": 57,
     "metadata": {},
     "output_type": "execute_result"
    }
   ],
   "source": [
    "clean_data6"
   ]
  },
  {
   "cell_type": "code",
   "execution_count": 58,
   "id": "bee123b4",
   "metadata": {},
   "outputs": [],
   "source": [
    "####Frequency of the Words ##########"
   ]
  },
  {
   "cell_type": "code",
   "execution_count": 59,
   "id": "f24a6cdc",
   "metadata": {},
   "outputs": [],
   "source": [
    "words_dict = {}"
   ]
  },
  {
   "cell_type": "code",
   "execution_count": 60,
   "id": "ea798e20",
   "metadata": {},
   "outputs": [],
   "source": [
    "for word in clean_data6.split():\n",
    "    words_dict[word] = words_dict.get(word, 0)+1"
   ]
  },
  {
   "cell_type": "code",
   "execution_count": 61,
   "id": "270442bf",
   "metadata": {},
   "outputs": [
    {
     "name": "stdout",
     "output_type": "stream",
     "text": [
      "able:1\n",
      "actually:1\n",
      "addictive:1\n",
      "aim:1\n",
      "always:1\n",
      "among:1\n",
      "attention:1\n",
      "attentive:1\n",
      "automatically:1\n",
      "avoid:1\n",
      "bad:1\n",
      "become:1\n",
      "best:1\n",
      "books:1\n",
      "boring:1\n",
      "bought:1\n",
      "brings:1\n",
      "brother:1\n",
      "build:1\n",
      "buy:1\n",
      "calm:1\n",
      "car:1\n",
      "cd:1\n",
      "chess:2\n",
      "class:1\n",
      "collecting:1\n",
      "comes:1\n",
      "common:1\n",
      "computer:5\n",
      "daily:1\n",
      "different:1\n",
      "donât:1\n",
      "drawing:1\n",
      "elder:1\n",
      "engineer:1\n",
      "entertained:1\n",
      "etc:1\n",
      "every:2\n",
      "everyone:2\n",
      "father:1\n",
      "favorite:2\n",
      "free:1\n",
      "game:5\n",
      "games:9\n",
      "gaming:1\n",
      "gardening:1\n",
      "genre:1\n",
      "good:2\n",
      "happy:1\n",
      "health:1\n",
      "hobbies:3\n",
      "hobby:7\n",
      "indepth:1\n",
      "learning:1\n",
      "leisure:1\n",
      "life:1\n",
      "limit:1\n",
      "love:3\n",
      "maintain:1\n",
      "makes:3\n",
      "many:1\n",
      "mind:1\n",
      "month:1\n",
      "much:1\n",
      "never:1\n",
      "new:1\n",
      "one:2\n",
      "others:1\n",
      "paragraph:1\n",
      "passion:1\n",
      "people:2\n",
      "personally:1\n",
      "play:4\n",
      "playing:4\n",
      "power:1\n",
      "pretty:1\n",
      "puzzle:1\n",
      "racing:1\n",
      "reading:1\n",
      "really:2\n",
      "relaxed:1\n",
      "routine:2\n",
      "ruin:1\n",
      "say:1\n",
      "several:2\n",
      "shooting:2\n",
      "side:2\n",
      "six:1\n",
      "something:1\n",
      "stamp:1\n",
      "starting:1\n",
      "study:1\n",
      "thatâs:1\n",
      "think:3\n",
      "time:2\n",
      "tv:1\n",
      "types:1\n",
      "usually:1\n",
      "video:6\n",
      "waste:1\n",
      "watching:1\n",
      "wonât:1\n",
      "words:1\n",
      "work:1\n",
      "working:2\n",
      "world:1\n"
     ]
    }
   ],
   "source": [
    "for key in sorted (words_dict):\n",
    "    print(\"{}:{}\". format(key, words_dict[key]))"
   ]
  },
  {
   "cell_type": "code",
   "execution_count": 62,
   "id": "0bd06cec",
   "metadata": {},
   "outputs": [],
   "source": [
    "#####Word cloud #####"
   ]
  },
  {
   "cell_type": "code",
   "execution_count": 63,
   "id": "c30c3b24",
   "metadata": {},
   "outputs": [],
   "source": [
    "# create the wordcloud object"
   ]
  },
  {
   "cell_type": "code",
   "execution_count": 64,
   "id": "0001c83c",
   "metadata": {},
   "outputs": [],
   "source": [
    "wordcloud = WordCloud(width=480, height=480, margin=0).generate(clean_data6)"
   ]
  },
  {
   "cell_type": "code",
   "execution_count": 65,
   "id": "d4749e5d",
   "metadata": {},
   "outputs": [],
   "source": [
    "#Display the generated image:"
   ]
  },
  {
   "cell_type": "code",
   "execution_count": 66,
   "id": "d75c669d",
   "metadata": {},
   "outputs": [
    {
     "data": {
      "image/png": "[encoded data removed]",
      "text/plain": [
       "<Figure size 432x288 with 1 Axes>"
      ]
     },
     "metadata": {
      "needs_background": "light"
     },
     "output_type": "display_data"
    }
   ],
   "source": [
    "plt.imshow(wordcloud, interpolation= 'bilinear')\n",
    "plt.axis('off')\n",
    "plt.margins(x=0, y=0)\n",
    "plt.show()"
   ]
  },
  {
   "cell_type": "code",
   "execution_count": 67,
   "id": "83c8d94e",
   "metadata": {},
   "outputs": [],
   "source": [
    "#controlling number of words"
   ]
  },
  {
   "cell_type": "code",
   "execution_count": 68,
   "id": "c14f074b",
   "metadata": {},
   "outputs": [],
   "source": [
    "wordcloud= WordCloud(width=480, height=480, max_words=3).generate(clean_data6)"
   ]
  },
  {
   "cell_type": "code",
   "execution_count": 69,
   "id": "c7291324",
   "metadata": {},
   "outputs": [
    {
     "data": {
      "image/png": "[encoded data removed]",
      "text/plain": [
       "<Figure size 432x288 with 1 Axes>"
      ]
     },
     "metadata": {
      "needs_background": "light"
     },
     "output_type": "display_data"
    }
   ],
   "source": [
    "plt.figure()\n",
    "plt.imshow(wordcloud, interpolation= 'bilinear')\n",
    "plt.axis('off')\n",
    "plt.margins(x=0, y=0)\n",
    "plt.show()"
   ]
  },
  {
   "cell_type": "code",
   "execution_count": 70,
   "id": "3b3a8e92",
   "metadata": {},
   "outputs": [],
   "source": [
    "wordcloud= WordCloud(width=480, height=480, colormap='Oranges_r').generate(clean_data6)"
   ]
  },
  {
   "cell_type": "code",
   "execution_count": 71,
   "id": "c13198d9",
   "metadata": {},
   "outputs": [
    {
     "data": {
      "image/png": "[encoded data removed]",
      "text/plain": [
       "<Figure size 432x288 with 1 Axes>"
      ]
     },
     "metadata": {
      "needs_background": "light"
     },
     "output_type": "display_data"
    }
   ],
   "source": [
    "plt.figure()\n",
    "plt.imshow(wordcloud, interpolation= 'bilinear')\n",
    "plt.axis('off')\n",
    "plt.margins(x=0, y=0)\n",
    "plt.show()"
   ]
  },
  {
   "cell_type": "code",
   "execution_count": 72,
   "id": "2468a71e",
   "metadata": {},
   "outputs": [],
   "source": [
    "#Sentiment analysis"
   ]
  },
  {
   "cell_type": "code",
   "execution_count": 73,
   "id": "2a96e1ff",
   "metadata": {},
   "outputs": [],
   "source": [
    "from nltk.sentiment.vader import SentimentIntensityAnalyzer"
   ]
  },
  {
   "cell_type": "code",
   "execution_count": 74,
   "id": "2ef1ac31",
   "metadata": {},
   "outputs": [
    {
     "name": "stderr",
     "output_type": "stream",
     "text": [
      "[nltk_data] Downloading package vader_lexicon to\n",
      "[nltk_data]     C:\\Users\\chris\\AppData\\Roaming\\nltk_data...\n",
      "[nltk_data]   Package vader_lexicon is already up-to-date!\n"
     ]
    },
    {
     "data": {
      "text/plain": [
       "True"
      ]
     },
     "execution_count": 74,
     "metadata": {},
     "output_type": "execute_result"
    }
   ],
   "source": [
    "nltk.download('vader_lexicon')"
   ]
  },
  {
   "cell_type": "code",
   "execution_count": 75,
   "id": "69d19343",
   "metadata": {},
   "outputs": [],
   "source": [
    "analyser = SentimentIntensityAnalyzer()"
   ]
  },
  {
   "cell_type": "code",
   "execution_count": 76,
   "id": "9e32c8c1",
   "metadata": {},
   "outputs": [],
   "source": [
    "scores = analyser.polarity_scores(clean_data6)"
   ]
  },
  {
   "cell_type": "code",
   "execution_count": 77,
   "id": "7035fbd7",
   "metadata": {},
   "outputs": [
    {
     "name": "stdout",
     "output_type": "stream",
     "text": [
      "compound:0.9941,neg:0.068,neu:0.616,pos:0.316,"
     ]
    }
   ],
   "source": [
    "for key in sorted(scores):\n",
    "    print('{0}:{1},'.format(key, scores[key]), end='')"
   ]
  },
  {
   "cell_type": "code",
   "execution_count": null,
   "id": "5b84ceda",
   "metadata": {},
   "outputs": [],
   "source": []
  },
  {
   "cell_type": "code",
   "execution_count": null,
   "id": "81f48da2",
   "metadata": {},
   "outputs": [],
   "source": []
  },
  {
   "cell_type": "code",
   "execution_count": null,
   "id": "8292f03f",
   "metadata": {},
   "outputs": [],
   "source": []
  },
  {
   "cell_type": "code",
   "execution_count": null,
   "id": "a000f981",
   "metadata": {},
   "outputs": [],
   "source": []
  },
  {
   "cell_type": "code",
   "execution_count": null,
   "id": "afe31b5b",
   "metadata": {},
   "outputs": [],
   "source": []
  },
  {
   "cell_type": "code",
   "execution_count": null,
   "id": "8766222d",
   "metadata": {},
   "outputs": [],
   "source": []
  },
  {
   "cell_type": "code",
   "execution_count": null,
   "id": "e706276c",
   "metadata": {},
   "outputs": [],
   "source": []
  },
  {
   "cell_type": "code",
   "execution_count": null,
   "id": "3ba852b0",
   "metadata": {},
   "outputs": [],
   "source": []
  },
  {
   "cell_type": "code",
   "execution_count": null,
   "id": "7f8b1e34",
   "metadata": {},
   "outputs": [],
   "source": []
  },
  {
   "cell_type": "code",
   "execution_count": null,
   "id": "bb74b869",
   "metadata": {},
   "outputs": [],
   "source": []
  },
  {
   "cell_type": "code",
   "execution_count": null,
   "id": "f15a0dd6",
   "metadata": {},
   "outputs": [],
   "source": []
  },
  {
   "cell_type": "code",
   "execution_count": null,
   "id": "f64147b5",
   "metadata": {},
   "outputs": [],
   "source": []
  },
  {
   "cell_type": "code",
   "execution_count": null,
   "id": "bf016d9c",
   "metadata": {},
   "outputs": [],
   "source": []
  },
  {
   "cell_type": "code",
   "execution_count": null,
   "id": "4167fd04",
   "metadata": {},
   "outputs": [],
   "source": []
  },
  {
   "cell_type": "code",
   "execution_count": null,
   "id": "5332c72f",
   "metadata": {},
   "outputs": [],
   "source": []
  },
  {
   "cell_type": "code",
   "execution_count": null,
   "id": "07a9aaa9",
   "metadata": {},
   "outputs": [],
   "source": []
  },
  {
   "cell_type": "code",
   "execution_count": null,
   "id": "d9732f6b",
   "metadata": {},
   "outputs": [],
   "source": []
  },
  {
   "cell_type": "code",
   "execution_count": null,
   "id": "8dd9bea4",
   "metadata": {},
   "outputs": [],
   "source": []
  },
  {
   "cell_type": "code",
   "execution_count": null,
   "id": "24fe8357",
   "metadata": {},
   "outputs": [],
   "source": []
  },
  {
   "cell_type": "code",
   "execution_count": null,
   "id": "cca49c07",
   "metadata": {},
   "outputs": [],
   "source": []
  },
  {
   "cell_type": "code",
   "execution_count": null,
   "id": "20d04d32",
   "metadata": {},
   "outputs": [],
   "source": []
  },
  {
   "cell_type": "code",
   "execution_count": null,
   "id": "f82e9dcf",
   "metadata": {},
   "outputs": [],
   "source": []
  },
  {
   "cell_type": "code",
   "execution_count": null,
   "id": "ba25d7d9",
   "metadata": {},
   "outputs": [],
   "source": []
  },
  {
   "cell_type": "code",
   "execution_count": null,
   "id": "d5e23b70",
   "metadata": {},
   "outputs": [],
   "source": []
  },
  {
   "cell_type": "code",
   "execution_count": null,
   "id": "8b3feb36",
   "metadata": {},
   "outputs": [],
   "source": []
  },
  {
   "cell_type": "code",
   "execution_count": null,
   "id": "c579d8a7",
   "metadata": {},
   "outputs": [],
   "source": []
  },
  {
   "cell_type": "code",
   "execution_count": null,
   "id": "5c0d8ad0",
   "metadata": {},
   "outputs": [],
   "source": []
  },
  {
   "cell_type": "code",
   "execution_count": null,
   "id": "3c24ccda",
   "metadata": {},
   "outputs": [],
   "source": []
  },
  {
   "cell_type": "code",
   "execution_count": null,
   "id": "8aef3558",
   "metadata": {},
   "outputs": [],
   "source": []
  }
 ],
 "metadata": {
  "kernelspec": {
   "display_name": "Python 3 (ipykernel)",
   "language": "python",
   "name": "python3"
  },
  "language_info": {
   "codemirror_mode": {
    "name": "ipython",
    "version": 3
   },
   "file_extension": ".py",
   "mimetype": "text/x-python",
   "name": "python",
   "nbconvert_exporter": "python",
   "pygments_lexer": "ipython3",
   "version": "3.9.12"
  }
 },
 "nbformat": 4,
 "nbformat_minor": 5
}
